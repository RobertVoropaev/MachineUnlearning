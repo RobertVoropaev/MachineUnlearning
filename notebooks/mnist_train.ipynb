{
 "cells": [
  {
   "cell_type": "markdown",
   "id": "85f16788",
   "metadata": {},
   "source": [
    "# MNIST: обучение модели "
   ]
  },
  {
   "cell_type": "code",
   "execution_count": 1,
   "id": "cbcb5de0",
   "metadata": {},
   "outputs": [
    {
     "name": "stderr",
     "output_type": "stream",
     "text": [
      "2023-11-29 02:15:47.917375: I tensorflow/core/util/port.cc:110] oneDNN custom operations are on. You may see slightly different numerical results due to floating-point round-off errors from different computation orders. To turn them off, set the environment variable `TF_ENABLE_ONEDNN_OPTS=0`.\n",
      "2023-11-29 02:15:47.941556: I tensorflow/core/platform/cpu_feature_guard.cc:182] This TensorFlow binary is optimized to use available CPU instructions in performance-critical operations.\n",
      "To enable the following instructions: AVX2 AVX_VNNI FMA, in other operations, rebuild TensorFlow with the appropriate compiler flags.\n",
      "2023-11-29 02:15:48.283651: W tensorflow/compiler/tf2tensorrt/utils/py_utils.cc:38] TF-TRT Warning: Could not find TensorRT\n"
     ]
    }
   ],
   "source": [
    "import datetime\n",
    "import yaml\n",
    "from copy import deepcopy\n",
    "\n",
    "import numpy as np\n",
    "from tqdm.notebook import tqdm\n",
    "from matplotlib import pyplot as plt\n",
    "\n",
    "import torch\n",
    "import torch.nn as nn\n",
    "import torch.nn.functional as F\n",
    "from torch.utils.tensorboard import SummaryWriter\n",
    "\n",
    "from torchvision import datasets, transforms\n",
    "import torchvision.models as models"
   ]
  },
  {
   "cell_type": "markdown",
   "id": "f6b526aa",
   "metadata": {},
   "source": [
    "## Конфиг "
   ]
  },
  {
   "cell_type": "code",
   "execution_count": 2,
   "id": "89d4314f",
   "metadata": {},
   "outputs": [],
   "source": [
    "class CFG:\n",
    "    dataset_name = \"mnist\"\n",
    "    model_name = \"resnet18\"\n",
    "    process_name = \"train\"\n",
    "    full_model_name = f\"{dataset_name}_{model_name}_{process_name}\"\n",
    "    \n",
    "    gpu_num = 0\n",
    "    device = f\"cuda:{gpu_num}\" if torch.cuda.is_available() else \"cpu\"\n",
    "    num_workers = 16\n",
    "    \n",
    "    batch_size = 32\n",
    "    train_size = 50000\n",
    "    val_size = 10000\n",
    "    test_size = 10000\n",
    "    \n",
    "    max_epoch_num = 1000\n",
    "    early_stopping_patience = 10\n",
    "    lr = 1e-4\n",
    "    \n",
    "    save_best_model = True\n",
    "    seed = 42\n",
    "    \n",
    "def seed_everything(seed: int):\n",
    "    import random, os\n",
    "    import numpy as np\n",
    "    import torch\n",
    "    \n",
    "    random.seed(seed)\n",
    "    os.environ['PYTHONHASHSEED'] = str(seed)\n",
    "    np.random.seed(seed)\n",
    "    torch.manual_seed(seed)\n",
    "    torch.cuda.manual_seed(seed)\n",
    "    torch.backends.cudnn.deterministic = True\n",
    "    torch.backends.cudnn.benchmark = True\n",
    "    \n",
    "seed_everything(CFG.seed)"
   ]
  },
  {
   "cell_type": "markdown",
   "id": "e322997b",
   "metadata": {},
   "source": [
    "## Подготовка данных "
   ]
  },
  {
   "cell_type": "code",
   "execution_count": 3,
   "id": "95b642d2",
   "metadata": {},
   "outputs": [],
   "source": [
    "normalize = transforms.Compose([\n",
    "    transforms.Grayscale(num_output_channels=3),\n",
    "    transforms.ToTensor(),\n",
    "])\n",
    "\n",
    "mnist_train_val = datasets.MNIST(\"../input/\", train=True, download=True, transform=normalize)\n",
    "mnist_test = datasets.MNIST(\"../input/\", train=False, download=True, transform=normalize)"
   ]
  },
  {
   "cell_type": "code",
   "execution_count": 4,
   "id": "603b984d",
   "metadata": {},
   "outputs": [],
   "source": [
    "generator = torch.Generator().manual_seed(CFG.seed)\n",
    "mnist_train, mnist_val = torch.utils.data.random_split(\n",
    "    mnist_train_val, \n",
    "    [CFG.train_size, CFG.val_size],\n",
    "    generator=generator\n",
    ")"
   ]
  },
  {
   "cell_type": "code",
   "execution_count": 8,
   "id": "6930695c",
   "metadata": {},
   "outputs": [
    {
     "name": "stdout",
     "output_type": "stream",
     "text": [
      "50000 10000 10000\n"
     ]
    }
   ],
   "source": [
    "assert len(mnist_train.indices) == CFG.train_size\n",
    "assert len(mnist_val.indices) == CFG.val_size\n",
    "assert len(mnist_test) == CFG.test_size\n",
    "\n",
    "print(len(mnist_train.indices), len(mnist_val.indices), len(mnist_test))"
   ]
  },
  {
   "cell_type": "code",
   "execution_count": 9,
   "id": "f4a51f88",
   "metadata": {},
   "outputs": [],
   "source": [
    "train_dataloader = torch.utils.data.DataLoader(\n",
    "    mnist_train, \n",
    "    batch_size=CFG.batch_size, \n",
    "    shuffle=True, \n",
    "    num_workers=CFG.num_workers\n",
    ")\n",
    "\n",
    "val_dataloader = torch.utils.data.DataLoader(\n",
    "    mnist_val, \n",
    "    batch_size=CFG.batch_size, \n",
    "    shuffle=False, \n",
    "    num_workers=CFG.num_workers\n",
    ")\n",
    "\n",
    "test_dataloader = torch.utils.data.DataLoader(\n",
    "    mnist_test, \n",
    "    batch_size=CFG.batch_size, \n",
    "    shuffle=False, \n",
    "    num_workers=CFG.num_workers\n",
    ")"
   ]
  },
  {
   "cell_type": "markdown",
   "id": "c74ef823",
   "metadata": {},
   "source": [
    "## Модель "
   ]
  },
  {
   "cell_type": "code",
   "execution_count": 10,
   "id": "817d71b5",
   "metadata": {},
   "outputs": [],
   "source": [
    "class MnistModel(nn.Module):\n",
    "    def __init__(self, base_model):\n",
    "        super(MnistModel, self).__init__()\n",
    "        self.base_model = base_model\n",
    "        self.output_fc = nn.Linear(1000, 10)\n",
    "        \n",
    "    def forward(self, x):\n",
    "        x = self.base_model(x)\n",
    "        x = self.output_fc(x)\n",
    "        return x"
   ]
  },
  {
   "cell_type": "code",
   "execution_count": 11,
   "id": "9018b74c",
   "metadata": {},
   "outputs": [],
   "source": [
    "model = MnistModel(base_model=models.resnet18())\n",
    "model.to(CFG.device);"
   ]
  },
  {
   "cell_type": "markdown",
   "id": "5cc631d0",
   "metadata": {},
   "source": [
    "## Обучение "
   ]
  },
  {
   "cell_type": "code",
   "execution_count": 19,
   "id": "fadacf2d",
   "metadata": {},
   "outputs": [],
   "source": [
    "def validate_model(model, dataloader, score_f):\n",
    "    model.eval()\n",
    "    \n",
    "    mean_score = 0\n",
    "    batches_n = 0\n",
    "    with torch.no_grad(), torch.cuda.amp.autocast():\n",
    "        for batch_i, (inputs, targets) in enumerate(dataloader):\n",
    "            inputs, targets = inputs.to(CFG.device), targets.to(CFG.device)\n",
    "            pred = model(inputs)\n",
    "\n",
    "            mean_score += score_f(pred, targets)\n",
    "            batches_n += 1\n",
    "            \n",
    "    mean_score /= batches_n\n",
    "    return float(mean_score)"
   ]
  },
  {
   "cell_type": "code",
   "execution_count": 13,
   "id": "392a25d4",
   "metadata": {},
   "outputs": [],
   "source": [
    "loss_f = nn.CrossEntropyLoss()\n",
    "accuracy_f = lambda pred, targets: float((pred.argmax(axis=1) == targets.to(CFG.device)).float().mean())\n",
    "\n",
    "optimizer = torch.optim.Adam(model.parameters(), lr=CFG.lr)"
   ]
  },
  {
   "cell_type": "code",
   "execution_count": 14,
   "id": "f3e36c13",
   "metadata": {},
   "outputs": [],
   "source": [
    "curr_time = datetime.datetime.now().strftime(\"%Y%m%d_%H%M%S\")\n",
    "log_dir = f\"../logs/{CFG.dataset_name}/{CFG.model_name}/{CFG.process_name}/{curr_time}\"\n",
    "writer = SummaryWriter(log_dir=log_dir)"
   ]
  },
  {
   "cell_type": "code",
   "execution_count": 15,
   "id": "9385b8af",
   "metadata": {
    "scrolled": true
   },
   "outputs": [
    {
     "data": {
      "application/vnd.jupyter.widget-view+json": {
       "model_id": "3564d83462af465ea49c466ad1f48785",
       "version_major": 2,
       "version_minor": 0
      },
      "text/plain": [
       "  0%|          | 0/1563 [00:00<?, ?it/s]"
      ]
     },
     "metadata": {},
     "output_type": "display_data"
    },
    {
     "name": "stdout",
     "output_type": "stream",
     "text": [
      "Epoch 1: train_acc = 94.98%, val_acc = 97.84%; new best model\n"
     ]
    },
    {
     "data": {
      "application/vnd.jupyter.widget-view+json": {
       "model_id": "987217554c51426b975afa3f574a2aa6",
       "version_major": 2,
       "version_minor": 0
      },
      "text/plain": [
       "  0%|          | 0/1563 [00:00<?, ?it/s]"
      ]
     },
     "metadata": {},
     "output_type": "display_data"
    },
    {
     "name": "stdout",
     "output_type": "stream",
     "text": [
      "Epoch 2: train_acc = 98.05%, val_acc = 98.44%; new best model\n"
     ]
    },
    {
     "data": {
      "application/vnd.jupyter.widget-view+json": {
       "model_id": "ab31454e02ce489c9c18a7506508e889",
       "version_major": 2,
       "version_minor": 0
      },
      "text/plain": [
       "  0%|          | 0/1563 [00:00<?, ?it/s]"
      ]
     },
     "metadata": {},
     "output_type": "display_data"
    },
    {
     "name": "stdout",
     "output_type": "stream",
     "text": [
      "Epoch 3: train_acc = 98.52%, val_acc = 98.58%; new best model\n"
     ]
    },
    {
     "data": {
      "application/vnd.jupyter.widget-view+json": {
       "model_id": "2fe29bd7f627465aaf91092e4919c125",
       "version_major": 2,
       "version_minor": 0
      },
      "text/plain": [
       "  0%|          | 0/1563 [00:00<?, ?it/s]"
      ]
     },
     "metadata": {},
     "output_type": "display_data"
    },
    {
     "name": "stdout",
     "output_type": "stream",
     "text": [
      "Epoch 4: train_acc = 98.82%, val_acc = 98.35%; continue\n"
     ]
    },
    {
     "data": {
      "application/vnd.jupyter.widget-view+json": {
       "model_id": "2139a3e9915b4180ba11f950570492de",
       "version_major": 2,
       "version_minor": 0
      },
      "text/plain": [
       "  0%|          | 0/1563 [00:00<?, ?it/s]"
      ]
     },
     "metadata": {},
     "output_type": "display_data"
    },
    {
     "name": "stdout",
     "output_type": "stream",
     "text": [
      "Epoch 5: train_acc = 99.03%, val_acc = 98.77%; new best model\n"
     ]
    },
    {
     "data": {
      "application/vnd.jupyter.widget-view+json": {
       "model_id": "c8bdeeb504334dee9db77b58cd28040d",
       "version_major": 2,
       "version_minor": 0
      },
      "text/plain": [
       "  0%|          | 0/1563 [00:00<?, ?it/s]"
      ]
     },
     "metadata": {},
     "output_type": "display_data"
    },
    {
     "name": "stdout",
     "output_type": "stream",
     "text": [
      "Epoch 6: train_acc = 99.16%, val_acc = 98.7%; continue\n"
     ]
    },
    {
     "data": {
      "application/vnd.jupyter.widget-view+json": {
       "model_id": "0f4b2ab760d64d54b780970b7693e94d",
       "version_major": 2,
       "version_minor": 0
      },
      "text/plain": [
       "  0%|          | 0/1563 [00:00<?, ?it/s]"
      ]
     },
     "metadata": {},
     "output_type": "display_data"
    },
    {
     "name": "stdout",
     "output_type": "stream",
     "text": [
      "Epoch 7: train_acc = 99.28%, val_acc = 98.91%; new best model\n"
     ]
    },
    {
     "data": {
      "application/vnd.jupyter.widget-view+json": {
       "model_id": "6a577e3fc7644df8af2355287a5561ed",
       "version_major": 2,
       "version_minor": 0
      },
      "text/plain": [
       "  0%|          | 0/1563 [00:00<?, ?it/s]"
      ]
     },
     "metadata": {},
     "output_type": "display_data"
    },
    {
     "name": "stdout",
     "output_type": "stream",
     "text": [
      "Epoch 8: train_acc = 99.31%, val_acc = 98.71%; continue\n"
     ]
    },
    {
     "data": {
      "application/vnd.jupyter.widget-view+json": {
       "model_id": "a6f6cd2c330640e0aed473feec85a6e7",
       "version_major": 2,
       "version_minor": 0
      },
      "text/plain": [
       "  0%|          | 0/1563 [00:00<?, ?it/s]"
      ]
     },
     "metadata": {},
     "output_type": "display_data"
    },
    {
     "name": "stdout",
     "output_type": "stream",
     "text": [
      "Epoch 9: train_acc = 99.47%, val_acc = 99.13%; new best model\n"
     ]
    },
    {
     "data": {
      "application/vnd.jupyter.widget-view+json": {
       "model_id": "c397d87c69a24ac38bd263914834dceb",
       "version_major": 2,
       "version_minor": 0
      },
      "text/plain": [
       "  0%|          | 0/1563 [00:00<?, ?it/s]"
      ]
     },
     "metadata": {},
     "output_type": "display_data"
    },
    {
     "name": "stdout",
     "output_type": "stream",
     "text": [
      "Epoch 10: train_acc = 99.47%, val_acc = 98.95%; continue\n"
     ]
    },
    {
     "data": {
      "application/vnd.jupyter.widget-view+json": {
       "model_id": "97116d18195d4e09bce8ec78165f123b",
       "version_major": 2,
       "version_minor": 0
      },
      "text/plain": [
       "  0%|          | 0/1563 [00:00<?, ?it/s]"
      ]
     },
     "metadata": {},
     "output_type": "display_data"
    },
    {
     "name": "stdout",
     "output_type": "stream",
     "text": [
      "Epoch 11: train_acc = 99.54%, val_acc = 99.07%; continue\n"
     ]
    },
    {
     "data": {
      "application/vnd.jupyter.widget-view+json": {
       "model_id": "2433aa7de9aa4c2c97dda7542e722af4",
       "version_major": 2,
       "version_minor": 0
      },
      "text/plain": [
       "  0%|          | 0/1563 [00:00<?, ?it/s]"
      ]
     },
     "metadata": {},
     "output_type": "display_data"
    },
    {
     "name": "stdout",
     "output_type": "stream",
     "text": [
      "Epoch 12: train_acc = 99.61%, val_acc = 98.51%; continue\n"
     ]
    },
    {
     "data": {
      "application/vnd.jupyter.widget-view+json": {
       "model_id": "b00b3b40c2f24835a6c82a676c5716d4",
       "version_major": 2,
       "version_minor": 0
      },
      "text/plain": [
       "  0%|          | 0/1563 [00:00<?, ?it/s]"
      ]
     },
     "metadata": {},
     "output_type": "display_data"
    },
    {
     "name": "stdout",
     "output_type": "stream",
     "text": [
      "Epoch 13: train_acc = 99.62%, val_acc = 98.93%; continue\n"
     ]
    },
    {
     "data": {
      "application/vnd.jupyter.widget-view+json": {
       "model_id": "77389592366c4f6b8aec9359a866acaa",
       "version_major": 2,
       "version_minor": 0
      },
      "text/plain": [
       "  0%|          | 0/1563 [00:00<?, ?it/s]"
      ]
     },
     "metadata": {},
     "output_type": "display_data"
    },
    {
     "name": "stdout",
     "output_type": "stream",
     "text": [
      "Epoch 14: train_acc = 99.71%, val_acc = 99.13%; continue\n"
     ]
    },
    {
     "data": {
      "application/vnd.jupyter.widget-view+json": {
       "model_id": "07733ccfcbe04d369975c36e8477a7c7",
       "version_major": 2,
       "version_minor": 0
      },
      "text/plain": [
       "  0%|          | 0/1563 [00:00<?, ?it/s]"
      ]
     },
     "metadata": {},
     "output_type": "display_data"
    },
    {
     "name": "stdout",
     "output_type": "stream",
     "text": [
      "Epoch 15: train_acc = 99.68%, val_acc = 98.86%; continue\n"
     ]
    },
    {
     "data": {
      "application/vnd.jupyter.widget-view+json": {
       "model_id": "8e72ae434d874fddaa7f2f98061161f5",
       "version_major": 2,
       "version_minor": 0
      },
      "text/plain": [
       "  0%|          | 0/1563 [00:00<?, ?it/s]"
      ]
     },
     "metadata": {},
     "output_type": "display_data"
    },
    {
     "name": "stdout",
     "output_type": "stream",
     "text": [
      "Epoch 16: train_acc = 99.69%, val_acc = 99.12%; continue\n"
     ]
    },
    {
     "data": {
      "application/vnd.jupyter.widget-view+json": {
       "model_id": "facf04f12a6140b0aa54cc1b150561b6",
       "version_major": 2,
       "version_minor": 0
      },
      "text/plain": [
       "  0%|          | 0/1563 [00:00<?, ?it/s]"
      ]
     },
     "metadata": {},
     "output_type": "display_data"
    },
    {
     "name": "stdout",
     "output_type": "stream",
     "text": [
      "Epoch 17: train_acc = 99.7%, val_acc = 99.03%; continue\n"
     ]
    },
    {
     "data": {
      "application/vnd.jupyter.widget-view+json": {
       "model_id": "01245cec4f2b4c40a1e2e19ea4036bf4",
       "version_major": 2,
       "version_minor": 0
      },
      "text/plain": [
       "  0%|          | 0/1563 [00:00<?, ?it/s]"
      ]
     },
     "metadata": {},
     "output_type": "display_data"
    },
    {
     "name": "stdout",
     "output_type": "stream",
     "text": [
      "Epoch 18: train_acc = 99.73%, val_acc = 99.1%; continue\n"
     ]
    },
    {
     "data": {
      "application/vnd.jupyter.widget-view+json": {
       "model_id": "f28019cc9855440ba152d8c29e8a8cfc",
       "version_major": 2,
       "version_minor": 0
      },
      "text/plain": [
       "  0%|          | 0/1563 [00:00<?, ?it/s]"
      ]
     },
     "metadata": {},
     "output_type": "display_data"
    },
    {
     "name": "stdout",
     "output_type": "stream",
     "text": [
      "Epoch 19: train_acc = 99.73%, val_acc = 99.07%; continue\n"
     ]
    },
    {
     "data": {
      "application/vnd.jupyter.widget-view+json": {
       "model_id": "690f6d2677f347c898dca11e0428978e",
       "version_major": 2,
       "version_minor": 0
      },
      "text/plain": [
       "  0%|          | 0/1563 [00:00<?, ?it/s]"
      ]
     },
     "metadata": {},
     "output_type": "display_data"
    },
    {
     "name": "stdout",
     "output_type": "stream",
     "text": [
      "Epoch 20: train_acc = 99.76%, val_acc = 99.11%; early stopping\n"
     ]
    }
   ],
   "source": [
    "best_val_acc = 0\n",
    "train_time = 0\n",
    "for epoch_i in range(1, CFG.max_epoch_num + 1):\n",
    "    ### TRAIN \n",
    "    model.train()\n",
    "        \n",
    "    mean_train_acc = 0\n",
    "    train_batches_n = 0\n",
    "    for batch_i, (inputs, targets) in enumerate(tqdm(train_dataloader)):\n",
    "        inputs, targets = inputs.to(CFG.device), targets.to(CFG.device)\n",
    "        \n",
    "        batch_start_time = datetime.datetime.now()\n",
    "        \n",
    "        pred = model(inputs)\n",
    "        loss = loss_f(pred, targets)\n",
    "\n",
    "        model.zero_grad()\n",
    "        loss.backward()\n",
    "        optimizer.step()\n",
    "        \n",
    "        train_time += (datetime.datetime.now() - batch_start_time).total_seconds()\n",
    "        \n",
    "        mean_train_acc += accuracy_f(pred, targets)\n",
    "        train_batches_n += 1\n",
    "\n",
    "    mean_train_acc /= train_batches_n\n",
    "    \n",
    "    ### VAL\n",
    "    \n",
    "    mean_val_acc = validate_model(model, val_dataloader, accuracy_f)\n",
    "    \n",
    "    ### TENSORBOARD\n",
    "    \n",
    "    writer.add_scalars(\n",
    "        \"Accuracy\",\n",
    "        {\"train\": mean_train_acc, \"val\": mean_val_acc}, \n",
    "        global_step=epoch_i\n",
    "    )\n",
    "    writer.flush()\n",
    "\n",
    "    ### SAVE BEST\n",
    "    \n",
    "    mean_train_acc_perc = round(float(mean_train_acc) * 100, 2)\n",
    "    mean_val_acc_perc = round(float(mean_val_acc) * 100, 2)\n",
    "    print(f\"Epoch {epoch_i}: train_acc = {mean_train_acc_perc}%, val_acc = {mean_val_acc_perc}%\", end=\"; \")\n",
    "\n",
    "    if mean_val_acc > best_val_acc:\n",
    "        best_epoch_i = epoch_i\n",
    "        best_val_acc = mean_val_acc\n",
    "        best_train_acc = mean_train_acc\n",
    "        best_model = deepcopy(model)\n",
    "        best_model_train_time = train_time\n",
    "        \n",
    "        print(f'new best model')\n",
    "    elif epoch_i - best_epoch_i > CFG.early_stopping_patience:\n",
    "        print(f'early stopping')\n",
    "        break\n",
    "    else:\n",
    "        print(\"continue\")"
   ]
  },
  {
   "cell_type": "code",
   "execution_count": 20,
   "id": "dc939270",
   "metadata": {},
   "outputs": [
    {
     "name": "stdout",
     "output_type": "stream",
     "text": [
      "Best model train acc = 99.47%\n",
      "Best model val acc = 99.13%\n",
      "Best model test acc = 99.1%\n",
      "Best model saved: ../models/mnist_resnet18_train_acc_99_1.torch\n"
     ]
    }
   ],
   "source": [
    "mean_test_acc = validate_model(best_model, test_dataloader, accuracy_f)\n",
    "\n",
    "print(f\"Best model train acc = {round(best_train_acc * 100, 2)}%\")\n",
    "print(f\"Best model val acc = {round(best_val_acc * 100, 2)}%\")\n",
    "print(f\"Best model test acc = {round(mean_test_acc * 100, 2)}%\")\n",
    "\n",
    "test_acc_str = str(round(mean_test_acc * 100, 2)).replace(\".\", \"_\")\n",
    "if CFG.save_best_model:\n",
    "    best_model_path = f\"../models/{CFG.full_model_name}_acc_{test_acc_str}.torch\"\n",
    "    torch.save(best_model.state_dict(), best_model_path)\n",
    "    print(f\"Best model saved: {best_model_path}\")"
   ]
  },
  {
   "cell_type": "markdown",
   "id": "3322b25e",
   "metadata": {},
   "source": [
    "## Сохранение результатов "
   ]
  },
  {
   "cell_type": "code",
   "execution_count": 23,
   "id": "e21b0dfc",
   "metadata": {},
   "outputs": [],
   "source": [
    "research_info = {\n",
    "    \"dataset_name\": CFG.dataset_name,\n",
    "    \"model_name\": CFG.model_name,\n",
    "    \"process_name\": CFG.process_name,\n",
    "    \"batch_size\": CFG.batch_size,\n",
    "    \"train_size\": CFG.train_size,\n",
    "    \"val_size\": CFG.val_size,\n",
    "    \"test_size\": CFG.test_size,\n",
    "    \"best_model\": {\n",
    "        \"best_epoch\": best_epoch_i,\n",
    "        \"accuracy\": {\n",
    "            \"best_train_acc\": best_train_acc,\n",
    "            \"best_val_acc\": best_val_acc,\n",
    "            \"best_test_acc\": mean_test_acc,\n",
    "        },\n",
    "        \"path\": best_model_path,\n",
    "        \"log_dir\": log_dir,\n",
    "        \"train_time_sec\": best_model_train_time\n",
    "    }\n",
    "}\n",
    "\n",
    "with open(f\"../research_info/{CFG.full_model_name}_acc_{test_acc_str}.yaml\", \"w\") as f:\n",
    "    yaml.dump(research_info, f)"
   ]
  },
  {
   "cell_type": "code",
   "execution_count": null,
   "id": "860ce022",
   "metadata": {},
   "outputs": [],
   "source": []
  }
 ],
 "metadata": {
  "kernelspec": {
   "display_name": "Python 3 (ipykernel)",
   "language": "python",
   "name": "python3"
  },
  "language_info": {
   "codemirror_mode": {
    "name": "ipython",
    "version": 3
   },
   "file_extension": ".py",
   "mimetype": "text/x-python",
   "name": "python",
   "nbconvert_exporter": "python",
   "pygments_lexer": "ipython3",
   "version": "3.10.12"
  }
 },
 "nbformat": 4,
 "nbformat_minor": 5
}
