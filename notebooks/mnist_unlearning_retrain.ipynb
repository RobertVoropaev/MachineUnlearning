{
 "cells": [
  {
   "cell_type": "markdown",
   "id": "33fea1bc",
   "metadata": {},
   "source": [
    "# MNIST unlearning: переобучение с нуля  "
   ]
  },
  {
   "cell_type": "code",
   "execution_count": 1,
   "id": "cbcb5de0",
   "metadata": {},
   "outputs": [
    {
     "name": "stderr",
     "output_type": "stream",
     "text": [
      "2023-11-29 07:52:55.642634: I tensorflow/core/util/port.cc:110] oneDNN custom operations are on. You may see slightly different numerical results due to floating-point round-off errors from different computation orders. To turn them off, set the environment variable `TF_ENABLE_ONEDNN_OPTS=0`.\n",
      "2023-11-29 07:52:55.666576: I tensorflow/core/platform/cpu_feature_guard.cc:182] This TensorFlow binary is optimized to use available CPU instructions in performance-critical operations.\n",
      "To enable the following instructions: AVX2 AVX_VNNI FMA, in other operations, rebuild TensorFlow with the appropriate compiler flags.\n",
      "2023-11-29 07:52:56.052634: W tensorflow/compiler/tf2tensorrt/utils/py_utils.cc:38] TF-TRT Warning: Could not find TensorRT\n"
     ]
    }
   ],
   "source": [
    "import datetime\n",
    "import yaml\n",
    "from copy import deepcopy\n",
    "\n",
    "import numpy as np\n",
    "from tqdm.notebook import tqdm\n",
    "from matplotlib import pyplot as plt\n",
    "from sklearn import linear_model, model_selection\n",
    "\n",
    "import torch\n",
    "import torch.nn as nn\n",
    "import torch.nn.functional as F\n",
    "from torch.utils.tensorboard import SummaryWriter\n",
    "\n",
    "from torchvision import datasets, transforms\n",
    "import torchvision.models as cv_models\n",
    "\n",
    "import sys\n",
    "sys.path.append(\"..\")\n",
    "from src import *"
   ]
  },
  {
   "cell_type": "markdown",
   "id": "886d2c9f",
   "metadata": {},
   "source": [
    "## Конфиг "
   ]
  },
  {
   "cell_type": "code",
   "execution_count": 2,
   "id": "89d4314f",
   "metadata": {},
   "outputs": [],
   "source": [
    "class CFG:\n",
    "    dataset_name = \"mnist\"\n",
    "    model_name = \"resnet18\"\n",
    "    process_name = \"unlearning_retrain\"\n",
    "    full_model_name = f\"{dataset_name}_{model_name}_{process_name}\"\n",
    "    \n",
    "    gpu_num = 0\n",
    "    device = f\"cuda:{gpu_num}\" if torch.cuda.is_available() else \"cpu\"\n",
    "    num_workers = 16\n",
    "    \n",
    "    batch_size = 32\n",
    "    \n",
    "    train_size = 50000\n",
    "    val_size = 10000\n",
    "    test_size = 10000\n",
    "    \n",
    "    retain_size = 40000\n",
    "    forget_size = 10000\n",
    "    \n",
    "    max_epoch_num = 1000\n",
    "    early_stopping_patience = 10\n",
    "    lr = 1e-4\n",
    "    \n",
    "    save_best_model = True\n",
    "    seed = 42\n",
    "    \n",
    "seed_everything(CFG.seed)"
   ]
  },
  {
   "cell_type": "markdown",
   "id": "d80cb0e7",
   "metadata": {},
   "source": [
    "## Подготовка данных "
   ]
  },
  {
   "cell_type": "code",
   "execution_count": 3,
   "id": "cc9ea8d5",
   "metadata": {},
   "outputs": [],
   "source": [
    "train_data, test_data = get_mnist_data()\n",
    "train_dataloader, retain_dataloader, forget_dataloader, val_dataloader, test_dataloader = (\n",
    "    get_dataloaders(\n",
    "        train_data=train_data, test_data=test_data, \n",
    "        train_size=CFG.train_size, \n",
    "        retain_size=CFG.retain_size, forget_size=CFG.forget_size, \n",
    "        val_size=CFG.val_size, test_size=CFG.test_size, \n",
    "        seed=CFG.seed, \n",
    "        batch_size=CFG.batch_size, \n",
    "        num_workers=CFG.num_workers\n",
    "    )\n",
    ")"
   ]
  },
  {
   "cell_type": "markdown",
   "id": "b4babc2e",
   "metadata": {},
   "source": [
    "## Модель "
   ]
  },
  {
   "cell_type": "code",
   "execution_count": 4,
   "id": "9018b74c",
   "metadata": {},
   "outputs": [],
   "source": [
    "model = MnistModel(base_model=cv_models.resnet18())\n",
    "model.to(CFG.device);"
   ]
  },
  {
   "cell_type": "markdown",
   "id": "0b44597a",
   "metadata": {},
   "source": [
    "## Обучение "
   ]
  },
  {
   "cell_type": "code",
   "execution_count": 5,
   "id": "6930b827",
   "metadata": {},
   "outputs": [],
   "source": [
    "loss_f = nn.CrossEntropyLoss()\n",
    "accuracy_f = lambda pred, targets: float((pred.argmax(axis=1) == targets.to(CFG.device)).float().mean())\n",
    "\n",
    "optimizer = torch.optim.Adam(model.parameters(), lr=CFG.lr)"
   ]
  },
  {
   "cell_type": "code",
   "execution_count": 6,
   "id": "bdde6489",
   "metadata": {},
   "outputs": [],
   "source": [
    "curr_time = datetime.datetime.now().strftime(\"%Y%m%d_%H%M%S\")\n",
    "log_dir = f\"../logs/{CFG.dataset_name}/{CFG.model_name}/{CFG.process_name}/{curr_time}\"\n",
    "writer = SummaryWriter(log_dir=log_dir)"
   ]
  },
  {
   "cell_type": "code",
   "execution_count": 7,
   "id": "9385b8af",
   "metadata": {
    "scrolled": true
   },
   "outputs": [
    {
     "data": {
      "application/vnd.jupyter.widget-view+json": {
       "model_id": "082d3e34525f4226b457051f59b4e36f",
       "version_major": 2,
       "version_minor": 0
      },
      "text/plain": [
       "  0%|          | 0/1250 [00:00<?, ?it/s]"
      ]
     },
     "metadata": {},
     "output_type": "display_data"
    },
    {
     "name": "stdout",
     "output_type": "stream",
     "text": [
      "Epoch 1: train_acc = 94.39%, val_acc = 97.98%; new best model\n"
     ]
    },
    {
     "data": {
      "application/vnd.jupyter.widget-view+json": {
       "model_id": "ed77ea97b10c437b9f3eb121a3cfce58",
       "version_major": 2,
       "version_minor": 0
      },
      "text/plain": [
       "  0%|          | 0/1250 [00:00<?, ?it/s]"
      ]
     },
     "metadata": {},
     "output_type": "display_data"
    },
    {
     "name": "stdout",
     "output_type": "stream",
     "text": [
      "Epoch 2: train_acc = 97.86%, val_acc = 97.21%; continue\n"
     ]
    },
    {
     "data": {
      "application/vnd.jupyter.widget-view+json": {
       "model_id": "553496f806a449529a616c0ae7aaca42",
       "version_major": 2,
       "version_minor": 0
      },
      "text/plain": [
       "  0%|          | 0/1250 [00:00<?, ?it/s]"
      ]
     },
     "metadata": {},
     "output_type": "display_data"
    },
    {
     "name": "stdout",
     "output_type": "stream",
     "text": [
      "Epoch 3: train_acc = 98.37%, val_acc = 98.19%; new best model\n"
     ]
    },
    {
     "data": {
      "application/vnd.jupyter.widget-view+json": {
       "model_id": "d1bbcc95cd1f4461a078efed804a6f2c",
       "version_major": 2,
       "version_minor": 0
      },
      "text/plain": [
       "  0%|          | 0/1250 [00:00<?, ?it/s]"
      ]
     },
     "metadata": {},
     "output_type": "display_data"
    },
    {
     "name": "stdout",
     "output_type": "stream",
     "text": [
      "Epoch 4: train_acc = 98.67%, val_acc = 98.43%; new best model\n"
     ]
    },
    {
     "data": {
      "application/vnd.jupyter.widget-view+json": {
       "model_id": "ed8a69ccdfd74a46b6823186d3b2a39a",
       "version_major": 2,
       "version_minor": 0
      },
      "text/plain": [
       "  0%|          | 0/1250 [00:00<?, ?it/s]"
      ]
     },
     "metadata": {},
     "output_type": "display_data"
    },
    {
     "name": "stdout",
     "output_type": "stream",
     "text": [
      "Epoch 5: train_acc = 98.95%, val_acc = 97.21%; continue\n"
     ]
    },
    {
     "data": {
      "application/vnd.jupyter.widget-view+json": {
       "model_id": "b7d8d90a5fd744969bb0b776249d8b08",
       "version_major": 2,
       "version_minor": 0
      },
      "text/plain": [
       "  0%|          | 0/1250 [00:00<?, ?it/s]"
      ]
     },
     "metadata": {},
     "output_type": "display_data"
    },
    {
     "name": "stdout",
     "output_type": "stream",
     "text": [
      "Epoch 6: train_acc = 99.04%, val_acc = 98.54%; new best model\n"
     ]
    },
    {
     "data": {
      "application/vnd.jupyter.widget-view+json": {
       "model_id": "9abdcbff3d7a43c19908a2861a23fadf",
       "version_major": 2,
       "version_minor": 0
      },
      "text/plain": [
       "  0%|          | 0/1250 [00:00<?, ?it/s]"
      ]
     },
     "metadata": {},
     "output_type": "display_data"
    },
    {
     "name": "stdout",
     "output_type": "stream",
     "text": [
      "Epoch 7: train_acc = 99.22%, val_acc = 98.31%; continue\n"
     ]
    },
    {
     "data": {
      "application/vnd.jupyter.widget-view+json": {
       "model_id": "1995619cc4d34925bfd03e79823c2426",
       "version_major": 2,
       "version_minor": 0
      },
      "text/plain": [
       "  0%|          | 0/1250 [00:00<?, ?it/s]"
      ]
     },
     "metadata": {},
     "output_type": "display_data"
    },
    {
     "name": "stdout",
     "output_type": "stream",
     "text": [
      "Epoch 8: train_acc = 99.31%, val_acc = 98.96%; new best model\n"
     ]
    },
    {
     "data": {
      "application/vnd.jupyter.widget-view+json": {
       "model_id": "78397d54e97a44e8b19a185f503fcadc",
       "version_major": 2,
       "version_minor": 0
      },
      "text/plain": [
       "  0%|          | 0/1250 [00:00<?, ?it/s]"
      ]
     },
     "metadata": {},
     "output_type": "display_data"
    },
    {
     "name": "stdout",
     "output_type": "stream",
     "text": [
      "Epoch 9: train_acc = 99.38%, val_acc = 98.75%; continue\n"
     ]
    },
    {
     "data": {
      "application/vnd.jupyter.widget-view+json": {
       "model_id": "b9115e236036444280fbabe23e5e6001",
       "version_major": 2,
       "version_minor": 0
      },
      "text/plain": [
       "  0%|          | 0/1250 [00:00<?, ?it/s]"
      ]
     },
     "metadata": {},
     "output_type": "display_data"
    },
    {
     "name": "stdout",
     "output_type": "stream",
     "text": [
      "Epoch 10: train_acc = 99.41%, val_acc = 98.66%; continue\n"
     ]
    },
    {
     "data": {
      "application/vnd.jupyter.widget-view+json": {
       "model_id": "1d890c4b6b3945e587116b3ebcdeab8e",
       "version_major": 2,
       "version_minor": 0
      },
      "text/plain": [
       "  0%|          | 0/1250 [00:00<?, ?it/s]"
      ]
     },
     "metadata": {},
     "output_type": "display_data"
    },
    {
     "name": "stdout",
     "output_type": "stream",
     "text": [
      "Epoch 11: train_acc = 99.45%, val_acc = 98.88%; continue\n"
     ]
    },
    {
     "data": {
      "application/vnd.jupyter.widget-view+json": {
       "model_id": "cfd284a8a2c84cf7b7af828fe8d09551",
       "version_major": 2,
       "version_minor": 0
      },
      "text/plain": [
       "  0%|          | 0/1250 [00:00<?, ?it/s]"
      ]
     },
     "metadata": {},
     "output_type": "display_data"
    },
    {
     "name": "stdout",
     "output_type": "stream",
     "text": [
      "Epoch 12: train_acc = 99.59%, val_acc = 99.02%; new best model\n"
     ]
    },
    {
     "data": {
      "application/vnd.jupyter.widget-view+json": {
       "model_id": "90902d2ec22642819064c9f6c9420c12",
       "version_major": 2,
       "version_minor": 0
      },
      "text/plain": [
       "  0%|          | 0/1250 [00:00<?, ?it/s]"
      ]
     },
     "metadata": {},
     "output_type": "display_data"
    },
    {
     "name": "stdout",
     "output_type": "stream",
     "text": [
      "Epoch 13: train_acc = 99.62%, val_acc = 98.95%; continue\n"
     ]
    },
    {
     "data": {
      "application/vnd.jupyter.widget-view+json": {
       "model_id": "b05bd6190e454504a020f97b7a6a73ac",
       "version_major": 2,
       "version_minor": 0
      },
      "text/plain": [
       "  0%|          | 0/1250 [00:00<?, ?it/s]"
      ]
     },
     "metadata": {},
     "output_type": "display_data"
    },
    {
     "name": "stdout",
     "output_type": "stream",
     "text": [
      "Epoch 14: train_acc = 99.61%, val_acc = 99.05%; new best model\n"
     ]
    },
    {
     "data": {
      "application/vnd.jupyter.widget-view+json": {
       "model_id": "86288e988d894fcd8a4ed702c1f15eb7",
       "version_major": 2,
       "version_minor": 0
      },
      "text/plain": [
       "  0%|          | 0/1250 [00:00<?, ?it/s]"
      ]
     },
     "metadata": {},
     "output_type": "display_data"
    },
    {
     "name": "stdout",
     "output_type": "stream",
     "text": [
      "Epoch 15: train_acc = 99.62%, val_acc = 98.55%; continue\n"
     ]
    },
    {
     "data": {
      "application/vnd.jupyter.widget-view+json": {
       "model_id": "bd1370776f13486e9257731f8228ea4f",
       "version_major": 2,
       "version_minor": 0
      },
      "text/plain": [
       "  0%|          | 0/1250 [00:00<?, ?it/s]"
      ]
     },
     "metadata": {},
     "output_type": "display_data"
    },
    {
     "name": "stdout",
     "output_type": "stream",
     "text": [
      "Epoch 16: train_acc = 99.73%, val_acc = 98.8%; continue\n"
     ]
    },
    {
     "data": {
      "application/vnd.jupyter.widget-view+json": {
       "model_id": "83d353f46fb74a6eb95e70920792fbc5",
       "version_major": 2,
       "version_minor": 0
      },
      "text/plain": [
       "  0%|          | 0/1250 [00:00<?, ?it/s]"
      ]
     },
     "metadata": {},
     "output_type": "display_data"
    },
    {
     "name": "stdout",
     "output_type": "stream",
     "text": [
      "Epoch 17: train_acc = 99.67%, val_acc = 99.05%; continue\n"
     ]
    },
    {
     "data": {
      "application/vnd.jupyter.widget-view+json": {
       "model_id": "1e6285a907ab457c96c0cc75c7ca0a1d",
       "version_major": 2,
       "version_minor": 0
      },
      "text/plain": [
       "  0%|          | 0/1250 [00:00<?, ?it/s]"
      ]
     },
     "metadata": {},
     "output_type": "display_data"
    },
    {
     "name": "stdout",
     "output_type": "stream",
     "text": [
      "Epoch 18: train_acc = 99.67%, val_acc = 99.02%; continue\n"
     ]
    },
    {
     "data": {
      "application/vnd.jupyter.widget-view+json": {
       "model_id": "0e7aca26403c4c75bb69edb6adcbafca",
       "version_major": 2,
       "version_minor": 0
      },
      "text/plain": [
       "  0%|          | 0/1250 [00:00<?, ?it/s]"
      ]
     },
     "metadata": {},
     "output_type": "display_data"
    },
    {
     "name": "stdout",
     "output_type": "stream",
     "text": [
      "Epoch 19: train_acc = 99.8%, val_acc = 99.0%; continue\n"
     ]
    },
    {
     "data": {
      "application/vnd.jupyter.widget-view+json": {
       "model_id": "bc01b7c34403495f81ca87fffcb02cc9",
       "version_major": 2,
       "version_minor": 0
      },
      "text/plain": [
       "  0%|          | 0/1250 [00:00<?, ?it/s]"
      ]
     },
     "metadata": {},
     "output_type": "display_data"
    },
    {
     "name": "stdout",
     "output_type": "stream",
     "text": [
      "Epoch 20: train_acc = 99.68%, val_acc = 98.97%; continue\n"
     ]
    },
    {
     "data": {
      "application/vnd.jupyter.widget-view+json": {
       "model_id": "105935a374f84008b753a02a5a795739",
       "version_major": 2,
       "version_minor": 0
      },
      "text/plain": [
       "  0%|          | 0/1250 [00:00<?, ?it/s]"
      ]
     },
     "metadata": {},
     "output_type": "display_data"
    },
    {
     "name": "stdout",
     "output_type": "stream",
     "text": [
      "Epoch 21: train_acc = 99.72%, val_acc = 98.79%; continue\n"
     ]
    },
    {
     "data": {
      "application/vnd.jupyter.widget-view+json": {
       "model_id": "446f4624b2b7491da25f299cd5b1656e",
       "version_major": 2,
       "version_minor": 0
      },
      "text/plain": [
       "  0%|          | 0/1250 [00:00<?, ?it/s]"
      ]
     },
     "metadata": {},
     "output_type": "display_data"
    },
    {
     "name": "stdout",
     "output_type": "stream",
     "text": [
      "Epoch 22: train_acc = 99.78%, val_acc = 99.19%; new best model\n"
     ]
    },
    {
     "data": {
      "application/vnd.jupyter.widget-view+json": {
       "model_id": "bdab0c8d29b4493a825efaa6c5bc3ea0",
       "version_major": 2,
       "version_minor": 0
      },
      "text/plain": [
       "  0%|          | 0/1250 [00:00<?, ?it/s]"
      ]
     },
     "metadata": {},
     "output_type": "display_data"
    },
    {
     "name": "stdout",
     "output_type": "stream",
     "text": [
      "Epoch 23: train_acc = 99.76%, val_acc = 99.08%; continue\n"
     ]
    },
    {
     "data": {
      "application/vnd.jupyter.widget-view+json": {
       "model_id": "ef941ac8f5c341b9a4816c89f35c2843",
       "version_major": 2,
       "version_minor": 0
      },
      "text/plain": [
       "  0%|          | 0/1250 [00:00<?, ?it/s]"
      ]
     },
     "metadata": {},
     "output_type": "display_data"
    },
    {
     "name": "stdout",
     "output_type": "stream",
     "text": [
      "Epoch 24: train_acc = 99.76%, val_acc = 98.98%; continue\n"
     ]
    },
    {
     "data": {
      "application/vnd.jupyter.widget-view+json": {
       "model_id": "efabdd5f63b34cacbbabb3ecb5a8f2e5",
       "version_major": 2,
       "version_minor": 0
      },
      "text/plain": [
       "  0%|          | 0/1250 [00:00<?, ?it/s]"
      ]
     },
     "metadata": {},
     "output_type": "display_data"
    },
    {
     "name": "stdout",
     "output_type": "stream",
     "text": [
      "Epoch 25: train_acc = 99.8%, val_acc = 99.1%; continue\n"
     ]
    },
    {
     "data": {
      "application/vnd.jupyter.widget-view+json": {
       "model_id": "afff2f74619d435c9d37fd9b42264603",
       "version_major": 2,
       "version_minor": 0
      },
      "text/plain": [
       "  0%|          | 0/1250 [00:00<?, ?it/s]"
      ]
     },
     "metadata": {},
     "output_type": "display_data"
    },
    {
     "name": "stdout",
     "output_type": "stream",
     "text": [
      "Epoch 26: train_acc = 99.81%, val_acc = 98.74%; continue\n"
     ]
    },
    {
     "data": {
      "application/vnd.jupyter.widget-view+json": {
       "model_id": "be6235ce55a340338a0fdfae10d8f878",
       "version_major": 2,
       "version_minor": 0
      },
      "text/plain": [
       "  0%|          | 0/1250 [00:00<?, ?it/s]"
      ]
     },
     "metadata": {},
     "output_type": "display_data"
    },
    {
     "name": "stdout",
     "output_type": "stream",
     "text": [
      "Epoch 27: train_acc = 99.75%, val_acc = 99.17%; continue\n"
     ]
    },
    {
     "data": {
      "application/vnd.jupyter.widget-view+json": {
       "model_id": "ee90498c0dd649b18019c87c2d5b2236",
       "version_major": 2,
       "version_minor": 0
      },
      "text/plain": [
       "  0%|          | 0/1250 [00:00<?, ?it/s]"
      ]
     },
     "metadata": {},
     "output_type": "display_data"
    },
    {
     "name": "stdout",
     "output_type": "stream",
     "text": [
      "Epoch 28: train_acc = 99.89%, val_acc = 99.19%; continue\n"
     ]
    },
    {
     "data": {
      "application/vnd.jupyter.widget-view+json": {
       "model_id": "5e61ccdb4858429e8bf7f22a54724922",
       "version_major": 2,
       "version_minor": 0
      },
      "text/plain": [
       "  0%|          | 0/1250 [00:00<?, ?it/s]"
      ]
     },
     "metadata": {},
     "output_type": "display_data"
    },
    {
     "name": "stdout",
     "output_type": "stream",
     "text": [
      "Epoch 29: train_acc = 99.85%, val_acc = 99.0%; continue\n"
     ]
    },
    {
     "data": {
      "application/vnd.jupyter.widget-view+json": {
       "model_id": "de989b5f75e74815ae8240a1cb288987",
       "version_major": 2,
       "version_minor": 0
      },
      "text/plain": [
       "  0%|          | 0/1250 [00:00<?, ?it/s]"
      ]
     },
     "metadata": {},
     "output_type": "display_data"
    },
    {
     "name": "stdout",
     "output_type": "stream",
     "text": [
      "Epoch 30: train_acc = 99.84%, val_acc = 98.95%; continue\n"
     ]
    },
    {
     "data": {
      "application/vnd.jupyter.widget-view+json": {
       "model_id": "81213a2ed38640758cea4d7b83d8ada4",
       "version_major": 2,
       "version_minor": 0
      },
      "text/plain": [
       "  0%|          | 0/1250 [00:00<?, ?it/s]"
      ]
     },
     "metadata": {},
     "output_type": "display_data"
    },
    {
     "name": "stdout",
     "output_type": "stream",
     "text": [
      "Epoch 31: train_acc = 99.8%, val_acc = 99.13%; continue\n"
     ]
    },
    {
     "data": {
      "application/vnd.jupyter.widget-view+json": {
       "model_id": "443ac7d492d442adb5bee880c071c35b",
       "version_major": 2,
       "version_minor": 0
      },
      "text/plain": [
       "  0%|          | 0/1250 [00:00<?, ?it/s]"
      ]
     },
     "metadata": {},
     "output_type": "display_data"
    },
    {
     "name": "stdout",
     "output_type": "stream",
     "text": [
      "Epoch 32: train_acc = 99.8%, val_acc = 98.88%; continue\n"
     ]
    },
    {
     "data": {
      "application/vnd.jupyter.widget-view+json": {
       "model_id": "de1205e33f0d478aa73dbca3d2a8ac43",
       "version_major": 2,
       "version_minor": 0
      },
      "text/plain": [
       "  0%|          | 0/1250 [00:00<?, ?it/s]"
      ]
     },
     "metadata": {},
     "output_type": "display_data"
    },
    {
     "name": "stdout",
     "output_type": "stream",
     "text": [
      "Epoch 33: train_acc = 99.88%, val_acc = 99.13%; early stopping\n"
     ]
    }
   ],
   "source": [
    "best_val_acc = 0\n",
    "train_time = 0\n",
    "for epoch_i in range(1, CFG.max_epoch_num + 1):\n",
    "    ### TRAIN \n",
    "    model.train()\n",
    "        \n",
    "    mean_train_acc = 0\n",
    "    train_batches_n = 0\n",
    "    for batch_i, (inputs, targets) in enumerate(tqdm(retain_dataloader)):\n",
    "        inputs, targets = inputs.to(CFG.device), targets.to(CFG.device)\n",
    "        \n",
    "        batch_start_time = datetime.datetime.now()\n",
    "        \n",
    "        pred = model(inputs)\n",
    "        loss = loss_f(pred, targets)\n",
    "\n",
    "        model.zero_grad()\n",
    "        loss.backward()\n",
    "        optimizer.step()\n",
    "        \n",
    "        train_time += (datetime.datetime.now() - batch_start_time).total_seconds()\n",
    "        \n",
    "        mean_train_acc += accuracy_f(pred, targets)\n",
    "        train_batches_n += 1\n",
    "\n",
    "    mean_train_acc /= train_batches_n\n",
    "    \n",
    "    ### VAL\n",
    "    \n",
    "    mean_val_acc = validate_model(model, val_dataloader, accuracy_f, device=CFG.device)\n",
    "    \n",
    "    ### TENSORBOARD\n",
    "    \n",
    "    writer.add_scalars(\n",
    "        \"Accuracy\",\n",
    "        {\"train\": mean_train_acc, \"val\": mean_val_acc}, \n",
    "        global_step=epoch_i\n",
    "    )\n",
    "    writer.flush()\n",
    "\n",
    "    ### SAVE BEST\n",
    "    \n",
    "    mean_train_acc_perc = round(float(mean_train_acc) * 100, 2)\n",
    "    mean_val_acc_perc = round(float(mean_val_acc) * 100, 2)\n",
    "    print(f\"Epoch {epoch_i}: train_acc = {mean_train_acc_perc}%, val_acc = {mean_val_acc_perc}%\", end=\"; \")\n",
    "\n",
    "    if mean_val_acc > best_val_acc:\n",
    "        best_epoch_i = epoch_i\n",
    "        best_val_acc = mean_val_acc\n",
    "        best_train_acc = mean_train_acc\n",
    "        best_model = deepcopy(model)\n",
    "        best_model_train_time = train_time\n",
    "        \n",
    "        print(f'new best model')\n",
    "    elif epoch_i - best_epoch_i > CFG.early_stopping_patience:\n",
    "        print(f'early stopping')\n",
    "        break\n",
    "    else:\n",
    "        print(\"continue\")"
   ]
  },
  {
   "cell_type": "code",
   "execution_count": 8,
   "id": "c8c7d554",
   "metadata": {},
   "outputs": [
    {
     "name": "stdout",
     "output_type": "stream",
     "text": [
      "Best model retain acc = 99.78%\n",
      "Best model forget acc = 99.26%\n",
      "Best model val acc = 99.19%\n",
      "Best model test acc = 99.38%\n",
      "Best model saved: ../models/mnist_resnet18_unlearning_retrain_acc_99_38.torch\n"
     ]
    }
   ],
   "source": [
    "mean_forget_acc = validate_model(best_model, forget_dataloader, accuracy_f, device=CFG.device)\n",
    "mean_test_acc = validate_model(best_model, test_dataloader, accuracy_f, device=CFG.device)\n",
    "\n",
    "print(f\"Best model retain acc = {round(best_train_acc * 100, 2)}%\")\n",
    "print(f\"Best model forget acc = {round(mean_forget_acc * 100, 2)}%\")\n",
    "print(f\"Best model val acc = {round(best_val_acc * 100, 2)}%\")\n",
    "print(f\"Best model test acc = {round(mean_test_acc * 100, 2)}%\")\n",
    "\n",
    "test_acc_str = str(round(mean_test_acc * 100, 2)).replace(\".\", \"_\")\n",
    "if CFG.save_best_model:\n",
    "    best_model_path = f\"../models/{CFG.full_model_name}_acc_{test_acc_str}.torch\"\n",
    "    torch.save(best_model.state_dict(), best_model_path)\n",
    "    print(f\"Best model saved: {best_model_path}\")"
   ]
  },
  {
   "cell_type": "markdown",
   "id": "a5e5a4c4",
   "metadata": {},
   "source": [
    "## Анализ забывания"
   ]
  },
  {
   "cell_type": "code",
   "execution_count": 9,
   "id": "fe9dbd68",
   "metadata": {},
   "outputs": [],
   "source": [
    "retain_losses = get_losses(best_model, retain_dataloader, device=CFG.device)\n",
    "forget_losses = get_losses(best_model, forget_dataloader, device=CFG.device)\n",
    "val_losses = get_losses(best_model, val_dataloader, device=CFG.device)\n",
    "test_losses = get_losses(best_model, test_dataloader, device=CFG.device)"
   ]
  },
  {
   "cell_type": "code",
   "execution_count": 10,
   "id": "ef33011f",
   "metadata": {},
   "outputs": [
    {
     "name": "stdout",
     "output_type": "stream",
     "text": [
      "forget_vs_retain_mia = 50.65%\n",
      "retain_vs_val_mia = 51.1%\n",
      "retain_vs_test_mia = 50.95%\n",
      "forget_vs_val_mia = 50.51%\n",
      "forget_vs_test_mia = 49.76%\n",
      "val_vs_test_mia = 50.16%\n"
     ]
    }
   ],
   "source": [
    "forget_vs_retain_mia = mia_score(forget_losses, retain_losses, seed=CFG.seed)\n",
    "retain_vs_val_mia = mia_score(retain_losses, val_losses, seed=CFG.seed)\n",
    "retain_vs_test_mia = mia_score(retain_losses, test_losses, seed=CFG.seed)\n",
    "\n",
    "forget_vs_val_mia = mia_score(forget_losses, val_losses, seed=CFG.seed)\n",
    "forget_vs_test_mia = mia_score(forget_losses, test_losses, seed=CFG.seed)\n",
    "\n",
    "val_vs_test_mia = mia_score(val_losses, test_losses, seed=CFG.seed)\n",
    "\n",
    "print(f\"forget_vs_retain_mia = {round(forget_vs_retain_mia * 100, 2)}%\")\n",
    "print(f\"retain_vs_val_mia = {round(retain_vs_val_mia * 100, 2)}%\")\n",
    "print(f\"retain_vs_test_mia = {round(retain_vs_test_mia * 100, 2)}%\")\n",
    "print(f\"forget_vs_val_mia = {round(forget_vs_val_mia * 100, 2)}%\")\n",
    "print(f\"forget_vs_test_mia = {round(forget_vs_test_mia * 100, 2)}%\")\n",
    "print(f\"val_vs_test_mia = {round(val_vs_test_mia * 100, 2)}%\")"
   ]
  },
  {
   "cell_type": "markdown",
   "id": "42297d51",
   "metadata": {},
   "source": [
    "## Сохранение результатов "
   ]
  },
  {
   "cell_type": "code",
   "execution_count": 100,
   "id": "95a4073e",
   "metadata": {},
   "outputs": [
    {
     "data": {
      "text/plain": [
       "{'dataset_name': 'mnist',\n",
       " 'model_name': 'resnet18',\n",
       " 'process_name': 'unlearning_retrain',\n",
       " 'batch_size': 32,\n",
       " 'retain_size': 40000,\n",
       " 'forget_size': 10000,\n",
       " 'val_size': 10000,\n",
       " 'test_size': 10000,\n",
       " 'unlearn_model': {'best_epoch': 22,\n",
       "  'accuracy': {'retrain_acc': 0.997775,\n",
       "   'forget_acc': 0.992611821086262,\n",
       "   'val_acc': 0.9919129392971247,\n",
       "   'test_acc': 0.9938099041533547},\n",
       "  'path': '../models/mnist_resnet18_unlearning_retrain_acc_99_38.torch',\n",
       "  'log_dir': '../logs/mnist/resnet18/unlearning_retrain/20231129_023016',\n",
       "  'train_time_sec': 84.82473300000059,\n",
       "  'mia_scores': {'forget_vs_retain_mia': 0.5064,\n",
       "   'retain_vs_val_mia': 0.5122,\n",
       "   'retain_vs_test_mia': 0.5104,\n",
       "   'forget_vs_val_mia': 0.5050999999999999,\n",
       "   'forget_vs_test_mia': 0.4976,\n",
       "   'val_vs_test_mia': 0.5016}}}"
      ]
     },
     "execution_count": 100,
     "metadata": {},
     "output_type": "execute_result"
    }
   ],
   "source": [
    "research_info = {\n",
    "    \"dataset_name\": CFG.dataset_name,\n",
    "    \"model_name\": CFG.model_name,\n",
    "    \"process_name\": CFG.process_name,\n",
    "    \"batch_size\": CFG.batch_size,\n",
    "    \"retain_size\": CFG.retain_size,\n",
    "    \"forget_size\": CFG.forget_size,\n",
    "    \"val_size\": CFG.val_size,\n",
    "    \"test_size\": CFG.test_size,\n",
    "    \"unlearn_model\": {\n",
    "        \"best_epoch\": best_epoch_i,\n",
    "        \"accuracy\": {\n",
    "            \"retrain_acc\": best_train_acc,\n",
    "            \"forget_acc\": mean_forget_acc,\n",
    "            \"val_acc\": best_val_acc,\n",
    "            \"test_acc\": mean_test_acc,\n",
    "        },\n",
    "        \"path\": best_model_path,\n",
    "        \"log_dir\": log_dir,\n",
    "        \"train_time_sec\": best_model_train_time,\n",
    "        \"mia_scores\": {\n",
    "            \"forget_vs_retain_mia\": forget_vs_retain_mia,\n",
    "            \"retain_vs_val_mia\": retain_vs_val_mia,\n",
    "            \"retain_vs_test_mia\": retain_vs_test_mia,\n",
    "            \"forget_vs_val_mia\": forget_vs_val_mia,\n",
    "            \"forget_vs_test_mia\": forget_vs_test_mia,\n",
    "            \"val_vs_test_mia\": val_vs_test_mia,\n",
    "        }\n",
    "    },\n",
    "\n",
    "}\n",
    "research_info"
   ]
  },
  {
   "cell_type": "code",
   "execution_count": 101,
   "id": "e21b0dfc",
   "metadata": {},
   "outputs": [],
   "source": [
    "with open(f\"../research_info/{CFG.full_model_name}_acc_{test_acc_str}.yaml\", \"w\") as f:\n",
    "    yaml.dump(research_info, f)"
   ]
  }
 ],
 "metadata": {
  "kernelspec": {
   "display_name": "Python 3 (ipykernel)",
   "language": "python",
   "name": "python3"
  },
  "language_info": {
   "codemirror_mode": {
    "name": "ipython",
    "version": 3
   },
   "file_extension": ".py",
   "mimetype": "text/x-python",
   "name": "python",
   "nbconvert_exporter": "python",
   "pygments_lexer": "ipython3",
   "version": "3.10.12"
  }
 },
 "nbformat": 4,
 "nbformat_minor": 5
}
