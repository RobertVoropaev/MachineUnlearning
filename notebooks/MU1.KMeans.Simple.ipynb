{
 "cells": [
  {
   "cell_type": "code",
   "execution_count": 9,
   "id": "697a191f",
   "metadata": {},
   "outputs": [],
   "source": [
    "from sklearn.datasets import make_blobs\n",
    "from sklearn.metrics import (\n",
    "    adjusted_rand_score as ari_score, \n",
    "    accuracy_score as acc_score,\n",
    "    normalized_mutual_info_score as nmi_score,\n",
    "    f1_score \n",
    ")\n",
    "from sklearn.model_selection import train_test_split\n",
    "\n",
    "import numpy as np\n",
    "import pandas as pd\n",
    "\n",
    "import sys\n",
    "sys.path.append(\"../src\")\n",
    "from kmeans import *\n",
    "from matcher import *\n",
    "from blobs_dataset import *\n",
    "from tools import *\n",
    "from scores import *\n",
    "\n",
    "from collections import Counter, defaultdict\n",
    "from copy import copy\n",
    "\n",
    "SEED = 0"
   ]
  },
  {
   "cell_type": "markdown",
   "id": "ace2adb8",
   "metadata": {},
   "source": [
    "# 1. Dataset "
   ]
  },
  {
   "cell_type": "code",
   "execution_count": 2,
   "id": "f3578879",
   "metadata": {},
   "outputs": [],
   "source": [
    "full_size = 1000\n",
    "test_shape = 0.2\n",
    "\n",
    "n_clusters = 4\n",
    "cluster_std = 3\n",
    "n_features = 2\n",
    "    \n",
    "X_train, X_test, y_train, y_test = create_blobs_dataset(\n",
    "    n_clusters, cluster_std, n_features, full_size, test_shape\n",
    ")\n",
    "train_size = len(y_train)\n",
    "test_size = len(y_test)"
   ]
  },
  {
   "cell_type": "code",
   "execution_count": 3,
   "id": "266b9413",
   "metadata": {},
   "outputs": [
    {
     "name": "stdout",
     "output_type": "stream",
     "text": [
      "Full size:  1000\n",
      "Train size:  800\n",
      "Test size:  200\n",
      "Retain size:  640\n",
      "Forget size:  160\n"
     ]
    }
   ],
   "source": [
    "forget_shape = 0.2\n",
    "\n",
    "mask_forget, mask_retain = get_forget_retain_mask(train_size, forget_shape)\n",
    "X_retain, y_retain = X_train[mask_retain], y_train[mask_retain]\n",
    "X_forget, y_forget = X_train[mask_forget], y_train[mask_forget]\n",
    "    \n",
    "retain_size = X_retain.shape[0]\n",
    "forget_size = X_forget.shape[0]\n",
    "    \n",
    "print(\"Full size: \", full_size)\n",
    "print(\"Train size: \", train_size)\n",
    "print(\"Test size: \", test_size)\n",
    "print(\"Retain size: \", retain_size)\n",
    "print(\"Forget size: \", forget_size) "
   ]
  },
  {
   "cell_type": "markdown",
   "id": "7c45f711",
   "metadata": {},
   "source": [
    "# 2.Model "
   ]
  },
  {
   "cell_type": "code",
   "execution_count": 4,
   "id": "cab78eee",
   "metadata": {},
   "outputs": [
    {
     "name": "stdout",
     "output_type": "stream",
     "text": [
      "fixed_centers 0.17502565746409945\n",
      "random_points 0.1803861145306095\n",
      "random_min_max 0.1803861145306095\n"
     ]
    }
   ],
   "source": [
    "fixed_centers = np.array([\n",
    "    [2,  2],\n",
    "    [-2,  2],\n",
    "    [2,  -2],\n",
    "    [-2,  -2]]\n",
    ")\n",
    "\n",
    "for i, init_method in enumerate([\"fixed_centers\", \"random_points\", \"random_min_max\"]):\n",
    "    mean_ari = 0\n",
    "    for seed in range(0, 100):\n",
    "        kmeans_origin = Simple_kMeans(\n",
    "            n_clusters=n_clusters, \n",
    "            init_method=init_method,\n",
    "            _centers = fixed_centers,\n",
    "        )\n",
    "        kmeans_origin.fit(X_train)\n",
    "        ari = score_calculator(y_test, kmeans_origin.predict(X_test))[\"ARI\"].iloc[0]\n",
    "        mean_ari += ari\n",
    "    print(init_method, mean_ari / 100)"
   ]
  },
  {
   "cell_type": "markdown",
   "id": "ad308cef",
   "metadata": {},
   "source": [
    "# Model create "
   ]
  },
  {
   "cell_type": "code",
   "execution_count": 16,
   "id": "c3a985e2",
   "metadata": {},
   "outputs": [],
   "source": [
    "kmeans_origin = Simple_kMeans(\n",
    "    n_clusters=n_clusters, \n",
    "    init_method=\"random_points\",\n",
    ")\n",
    "centers_origin, labels_origin, history_origin = kmeans_origin.fit(X_train)\n",
    "labels_origin_pred = kmeans_origin.predict(X_test)"
   ]
  },
  {
   "cell_type": "code",
   "execution_count": 17,
   "id": "25c4cf26",
   "metadata": {},
   "outputs": [],
   "source": [
    "kmeans_retain = Simple_kMeans(\n",
    "    n_clusters=n_clusters, \n",
    "    init_method=\"random_points\",\n",
    ")\n",
    "centers_retain, labels_retain, history_retain = kmeans_retain.fit(X_retain)\n",
    "labels_retain_pred = kmeans_retain.predict(X_test)"
   ]
  },
  {
   "cell_type": "code",
   "execution_count": 18,
   "id": "06442b4a",
   "metadata": {},
   "outputs": [],
   "source": [
    "def simple_unlearn(model, X, labels, mask_retain):\n",
    "    X_retain = X[mask_retain]\n",
    "    labels_retain = labels[mask_retain]\n",
    "    \n",
    "    unlearn_model = copy(model)\n",
    "    unlearn_model.cluster_centers = (\n",
    "        unlearn_model._compute_cluster_centers(X_retain, labels_retain)\n",
    "    )\n",
    "    return unlearn_model\n",
    "\n",
    "kmeans_unlearn = simple_unlearn(kmeans_origin, X_train, labels_origin, mask_retain)\n",
    "labels_unlearn_pred = kmeans_unlearn.predict(X_test)"
   ]
  },
  {
   "cell_type": "code",
   "execution_count": 19,
   "id": "0be8d922",
   "metadata": {},
   "outputs": [
    {
     "data": {
      "text/html": [
       "<div>\n",
       "<style scoped>\n",
       "    .dataframe tbody tr th:only-of-type {\n",
       "        vertical-align: middle;\n",
       "    }\n",
       "\n",
       "    .dataframe tbody tr th {\n",
       "        vertical-align: top;\n",
       "    }\n",
       "\n",
       "    .dataframe thead th {\n",
       "        text-align: right;\n",
       "    }\n",
       "</style>\n",
       "<table border=\"1\" class=\"dataframe\">\n",
       "  <thead>\n",
       "    <tr style=\"text-align: right;\">\n",
       "      <th></th>\n",
       "      <th>ACC</th>\n",
       "      <th>F1</th>\n",
       "      <th>ARI</th>\n",
       "      <th>NMI</th>\n",
       "      <th>classes</th>\n",
       "    </tr>\n",
       "  </thead>\n",
       "  <tbody>\n",
       "    <tr>\n",
       "      <th>0</th>\n",
       "      <td>0.97</td>\n",
       "      <td>0.969846</td>\n",
       "      <td>0.919097</td>\n",
       "      <td>0.909401</td>\n",
       "      <td>4.0</td>\n",
       "    </tr>\n",
       "  </tbody>\n",
       "</table>\n",
       "</div>"
      ],
      "text/plain": [
       "    ACC        F1       ARI       NMI  classes\n",
       "0  0.97  0.969846  0.919097  0.909401      4.0"
      ]
     },
     "execution_count": 19,
     "metadata": {},
     "output_type": "execute_result"
    }
   ],
   "source": [
    "score_calculator(labels_retain_pred, labels_unlearn_pred)"
   ]
  },
  {
   "cell_type": "code",
   "execution_count": 22,
   "id": "9b7edae0",
   "metadata": {},
   "outputs": [
    {
     "data": {
      "text/html": [
       "<div>\n",
       "<style scoped>\n",
       "    .dataframe tbody tr th:only-of-type {\n",
       "        vertical-align: middle;\n",
       "    }\n",
       "\n",
       "    .dataframe tbody tr th {\n",
       "        vertical-align: top;\n",
       "    }\n",
       "\n",
       "    .dataframe thead th {\n",
       "        text-align: right;\n",
       "    }\n",
       "</style>\n",
       "<table border=\"1\" class=\"dataframe\">\n",
       "  <thead>\n",
       "    <tr style=\"text-align: right;\">\n",
       "      <th></th>\n",
       "      <th>ACC</th>\n",
       "      <th>F1</th>\n",
       "      <th>ARI</th>\n",
       "      <th>NMI</th>\n",
       "      <th>classes</th>\n",
       "    </tr>\n",
       "  </thead>\n",
       "  <tbody>\n",
       "    <tr>\n",
       "      <th>0</th>\n",
       "      <td>0.575</td>\n",
       "      <td>0.579731</td>\n",
       "      <td>0.190717</td>\n",
       "      <td>0.230182</td>\n",
       "      <td>4.0</td>\n",
       "    </tr>\n",
       "  </tbody>\n",
       "</table>\n",
       "</div>"
      ],
      "text/plain": [
       "     ACC        F1       ARI       NMI  classes\n",
       "0  0.575  0.579731  0.190717  0.230182      4.0"
      ]
     },
     "execution_count": 22,
     "metadata": {},
     "output_type": "execute_result"
    }
   ],
   "source": [
    "score_calculator(y_test, labels_unlearn_pred)"
   ]
  },
  {
   "cell_type": "code",
   "execution_count": 23,
   "id": "0f53b331",
   "metadata": {},
   "outputs": [
    {
     "data": {
      "text/html": [
       "<div>\n",
       "<style scoped>\n",
       "    .dataframe tbody tr th:only-of-type {\n",
       "        vertical-align: middle;\n",
       "    }\n",
       "\n",
       "    .dataframe tbody tr th {\n",
       "        vertical-align: top;\n",
       "    }\n",
       "\n",
       "    .dataframe thead th {\n",
       "        text-align: right;\n",
       "    }\n",
       "</style>\n",
       "<table border=\"1\" class=\"dataframe\">\n",
       "  <thead>\n",
       "    <tr style=\"text-align: right;\">\n",
       "      <th></th>\n",
       "      <th>ACC</th>\n",
       "      <th>F1</th>\n",
       "      <th>ARI</th>\n",
       "      <th>NMI</th>\n",
       "      <th>classes</th>\n",
       "    </tr>\n",
       "  </thead>\n",
       "  <tbody>\n",
       "    <tr>\n",
       "      <th>0</th>\n",
       "      <td>0.6</td>\n",
       "      <td>0.603461</td>\n",
       "      <td>0.220976</td>\n",
       "      <td>0.245802</td>\n",
       "      <td>4.0</td>\n",
       "    </tr>\n",
       "  </tbody>\n",
       "</table>\n",
       "</div>"
      ],
      "text/plain": [
       "   ACC        F1       ARI       NMI  classes\n",
       "0  0.6  0.603461  0.220976  0.245802      4.0"
      ]
     },
     "execution_count": 23,
     "metadata": {},
     "output_type": "execute_result"
    }
   ],
   "source": [
    "score_calculator(y_test, labels_retain_pred)"
   ]
  },
  {
   "cell_type": "code",
   "execution_count": 25,
   "id": "4112e18d",
   "metadata": {},
   "outputs": [
    {
     "data": {
      "text/plain": [
       "0.9955925881478002"
      ]
     },
     "execution_count": 25,
     "metadata": {},
     "output_type": "execute_result"
    }
   ],
   "source": [
    "def diff_centers(kmeans1, kmeans2):\n",
    "    diff = np.linalg.norm(\n",
    "        kmeans1.cluster_centers - kmeans2.cluster_centers, \n",
    "        axis=1\n",
    "    ).mean()\n",
    "    return diff\n",
    "\n",
    "origin_retain_diff = diff_centers(kmeans_origin, kmeans_retain)\n",
    "retain_unlearn_diff = diff_centers(kmeans_unlearn, kmeans_retain)\n",
    "\n",
    "centers_diff_ratio = retain_unlearn_diff / origin_retain_diff\n",
    "centers_diff_ratio"
   ]
  },
  {
   "cell_type": "markdown",
   "id": "8e0f22d9",
   "metadata": {},
   "source": [
    "# Analysis "
   ]
  },
  {
   "cell_type": "markdown",
   "id": "ad3e4bd2",
   "metadata": {},
   "source": [
    "## Forget shape "
   ]
  },
  {
   "cell_type": "code",
   "execution_count": 40,
   "id": "4df31b04",
   "metadata": {},
   "outputs": [],
   "source": [
    "n_clusters = 4\n",
    "cluster_std = 3\n",
    "n_features = 2\n",
    "\n",
    "full_size = 1000\n",
    "test_shape = 0.2\n",
    "\n",
    "forget_shape_arr = np.arange(0, 1, 0.05)\n",
    "ari_arr = []\n",
    "centers_diff_ratio_arr = []\n",
    "for forget_shape in forget_shape_arr:\n",
    "    X_train, X_test, y_train, y_test = create_blobs_dataset(\n",
    "        n_clusters, cluster_std, n_features, full_size, test_shape\n",
    "    )\n",
    "    train_size = len(y_train)\n",
    "    test_size = len(y_test)\n",
    "\n",
    "    mask_forget, mask_retain = get_forget_retain_mask(train_size, forget_shape)\n",
    "    X_retain, y_retain = X_train[mask_retain], y_train[mask_retain]\n",
    "    X_forget, y_forget = X_train[mask_forget], y_train[mask_forget]\n",
    "\n",
    "    kmeans_origin = Simple_kMeans(\n",
    "        n_clusters=n_clusters, \n",
    "        init_method=\"random_points\",\n",
    "    )\n",
    "    kmeans_origin.fit(X_train)\n",
    "    labels_origin_pred = kmeans_origin.predict(X_test)\n",
    "    \n",
    "    kmeans_retain = Simple_kMeans(\n",
    "        n_clusters=n_clusters, \n",
    "        init_method=\"random_points\",\n",
    "    )\n",
    "    kmeans_retain.fit(X_retain)\n",
    "    labels_retain_pred = kmeans_retain.predict(X_test)\n",
    "    \n",
    "    kmeans_unlearn = simple_unlearn(kmeans_origin, X_train, labels_origin, mask_retain)\n",
    "    labels_unlearn_pred = kmeans_unlearn.predict(X_test)\n",
    "    \n",
    "    ari = score_calculator(labels_retain_pred, labels_unlearn_pred)[\"ARI\"].iloc[0]\n",
    "    \n",
    "    origin_retain_diff = diff_centers(kmeans_origin, kmeans_retain)\n",
    "    retain_unlearn_diff = diff_centers(kmeans_unlearn, kmeans_retain)\n",
    "    if origin_retain_diff != 0:\n",
    "        centers_diff_ratio = retain_unlearn_diff / origin_retain_diff \n",
    "    else:\n",
    "        centers_diff_ratio = min(retain_unlearn_diff, 1)\n",
    "    \n",
    "    ari_arr.append(ari)\n",
    "    centers_diff_ratio_arr.append(centers_diff_ratio)\n",
    "    \n",
    "ari_arr = np.array(ari_arr)\n",
    "centers_diff_ratio_arr = np.array(centers_diff_ratio_arr)"
   ]
  },
  {
   "cell_type": "code",
   "execution_count": 41,
   "id": "8d596541",
   "metadata": {},
   "outputs": [],
   "source": [
    "from matplotlib import pyplot as plt"
   ]
  },
  {
   "cell_type": "code",
   "execution_count": 42,
   "id": "97ffe5ae",
   "metadata": {},
   "outputs": [
    {
     "data": {
      "image/png": "[encoded data removed]",
      "text/plain": [
       "<Figure size 1008x504 with 1 Axes>"
      ]
     },
     "metadata": {
      "needs_background": "light"
     },
     "output_type": "display_data"
    }
   ],
   "source": [
    "plt.figure(figsize=(14, 7))\n",
    "plt.plot(forget_shape_arr, ari_arr)\n",
    "plt.plot(forget_shape_arr, centers_diff_ratio_arr)\n",
    "plt.grid()"
   ]
  },
  {
   "cell_type": "code",
   "execution_count": null,
   "id": "e73532ee",
   "metadata": {},
   "outputs": [],
   "source": []
  }
 ],
 "metadata": {
  "kernelspec": {
   "display_name": "Python 3 (ipykernel)",
   "language": "python",
   "name": "python3"
  },
  "language_info": {
   "codemirror_mode": {
    "name": "ipython",
    "version": 3
   },
   "file_extension": ".py",
   "mimetype": "text/x-python",
   "name": "python",
   "nbconvert_exporter": "python",
   "pygments_lexer": "ipython3",
   "version": "3.10.12"
  }
 },
 "nbformat": 4,
 "nbformat_minor": 5
}
